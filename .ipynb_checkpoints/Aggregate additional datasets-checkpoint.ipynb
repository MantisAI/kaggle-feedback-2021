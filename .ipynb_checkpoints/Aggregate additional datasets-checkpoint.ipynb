{
 "cells": [
  {
   "cell_type": "code",
   "execution_count": 1,
   "id": "d8541473",
   "metadata": {},
   "outputs": [],
   "source": [
    "import pandas as pd"
   ]
  },
  {
   "cell_type": "code",
   "execution_count": 2,
   "id": "f7eebe0c",
   "metadata": {},
   "outputs": [],
   "source": [
    "import os"
   ]
  },
  {
   "cell_type": "code",
   "execution_count": 10,
   "id": "55c6c135",
   "metadata": {},
   "outputs": [],
   "source": [
    "from xml.dom import minidom"
   ]
  },
  {
   "cell_type": "markdown",
   "id": "7f11d995",
   "metadata": {},
   "source": [
    "# habernal.gurevych.2015.argumentation.mining.CL.data.v1.0_1.tar"
   ]
  },
  {
   "cell_type": "code",
   "execution_count": 16,
   "id": "6931ef89",
   "metadata": {},
   "outputs": [],
   "source": [
    "data1 = []\n",
    "for file in os.listdir(\"aug_datasets/unlabeled.raw.corpus/\"):\n",
    "    try:\n",
    "        xmldoc = minidom.parse(f'aug_datasets/unlabeled.raw.corpus/{file}')\n",
    "        file_text = xmldoc.getElementsByTagName(\"cas:Sofa\")[0].getAttribute(\"sofaString\")\n",
    "        data1.append(file_text)\n",
    "    except Exception:\n",
    "        pass"
   ]
  },
  {
   "cell_type": "code",
   "execution_count": 18,
   "id": "ed9cd361",
   "metadata": {},
   "outputs": [
    {
     "data": {
      "text/plain": [
       "4334"
      ]
     },
     "execution_count": 18,
     "metadata": {},
     "output_type": "execute_result"
    }
   ],
   "source": [
    "len(data1)"
   ]
  },
  {
   "cell_type": "markdown",
   "id": "f1600652",
   "metadata": {},
   "source": [
    "# UKP-OpposingArgumentsInEssays_v1.0"
   ]
  },
  {
   "cell_type": "code",
   "execution_count": 17,
   "id": "40df59fe",
   "metadata": {},
   "outputs": [],
   "source": [
    "data2 = []\n",
    "for file in os.listdir(\"aug_datasets/essays/\"):\n",
    "    try:\n",
    "        with open(f\"aug_datasets/essays/{file}\", 'r') as f:\n",
    "            data2.append(f.read())\n",
    "    except Exception:\n",
    "        pass    "
   ]
  },
  {
   "cell_type": "code",
   "execution_count": 19,
   "id": "691329c2",
   "metadata": {},
   "outputs": [
    {
     "data": {
      "text/plain": [
       "402"
      ]
     },
     "execution_count": 19,
     "metadata": {},
     "output_type": "execute_result"
    }
   ],
   "source": [
    "len(data2)"
   ]
  },
  {
   "cell_type": "markdown",
   "id": "1fe396ae",
   "metadata": {},
   "source": [
    "# IBM_Debater_(R)_ArgsInASR_Findings-2020.v1"
   ]
  },
  {
   "cell_type": "code",
   "execution_count": 24,
   "id": "2f1c4d04",
   "metadata": {},
   "outputs": [],
   "source": [
    "df = pd.read_csv(\"aug_datasets/IBM_Debater_(R)_ArgsInASR_Findings-2020.v1/argumentative_sentences_in_spoken_language_with split.csv\")"
   ]
  },
  {
   "cell_type": "code",
   "execution_count": 25,
   "id": "d6c4da93",
   "metadata": {},
   "outputs": [
    {
     "data": {
      "text/html": [
       "<div>\n",
       "<style scoped>\n",
       "    .dataframe tbody tr th:only-of-type {\n",
       "        vertical-align: middle;\n",
       "    }\n",
       "\n",
       "    .dataframe tbody tr th {\n",
       "        vertical-align: top;\n",
       "    }\n",
       "\n",
       "    .dataframe thead th {\n",
       "        text-align: right;\n",
       "    }\n",
       "</style>\n",
       "<table border=\"1\" class=\"dataframe\">\n",
       "  <thead>\n",
       "    <tr style=\"text-align: right;\">\n",
       "      <th></th>\n",
       "      <th>sentence_id</th>\n",
       "      <th>sentence</th>\n",
       "      <th>context</th>\n",
       "      <th>topic</th>\n",
       "      <th>label</th>\n",
       "      <th>#positive</th>\n",
       "      <th>#negative</th>\n",
       "      <th>sentence_internal_id</th>\n",
       "      <th>val</th>\n",
       "      <th>test</th>\n",
       "    </tr>\n",
       "  </thead>\n",
       "  <tbody>\n",
       "    <tr>\n",
       "      <th>0</th>\n",
       "      <td>0</td>\n",
       "      <td>This has worked partially and very slowly and ...</td>\n",
       "      <td>But unlike proposition we do not think that th...</td>\n",
       "      <td>We should ban beauty contests</td>\n",
       "      <td>0</td>\n",
       "      <td>0</td>\n",
       "      <td>3</td>\n",
       "      <td>834</td>\n",
       "      <td>False</td>\n",
       "      <td>True</td>\n",
       "    </tr>\n",
       "    <tr>\n",
       "      <th>1</th>\n",
       "      <td>1</td>\n",
       "      <td>So let's start with that about why this is ult...</td>\n",
       "      <td>So let's start with that about why this is u...</td>\n",
       "      <td>We should ban anonymous posts</td>\n",
       "      <td>0</td>\n",
       "      <td>1</td>\n",
       "      <td>2</td>\n",
       "      <td>1375</td>\n",
       "      <td>False</td>\n",
       "      <td>True</td>\n",
       "    </tr>\n",
       "    <tr>\n",
       "      <th>2</th>\n",
       "      <td>2</td>\n",
       "      <td>We think that governments in general should on...</td>\n",
       "      <td>So we ought not do it  We think that governmen...</td>\n",
       "      <td>We should ban beauty contests</td>\n",
       "      <td>1</td>\n",
       "      <td>2</td>\n",
       "      <td>1</td>\n",
       "      <td>877</td>\n",
       "      <td>False</td>\n",
       "      <td>True</td>\n",
       "    </tr>\n",
       "    <tr>\n",
       "      <th>3</th>\n",
       "      <td>3</td>\n",
       "      <td>And I think the biggest reason for this is tha...</td>\n",
       "      <td>So let's start with that about why this is ult...</td>\n",
       "      <td>We should ban anonymous posts</td>\n",
       "      <td>0</td>\n",
       "      <td>1</td>\n",
       "      <td>2</td>\n",
       "      <td>1376</td>\n",
       "      <td>False</td>\n",
       "      <td>True</td>\n",
       "    </tr>\n",
       "    <tr>\n",
       "      <th>4</th>\n",
       "      <td>4</td>\n",
       "      <td>And because you can get high concentrations of...</td>\n",
       "      <td>Obviously people can have a drinking what thei...</td>\n",
       "      <td>We should further exploit unconventional oil</td>\n",
       "      <td>1</td>\n",
       "      <td>3</td>\n",
       "      <td>0</td>\n",
       "      <td>471</td>\n",
       "      <td>False</td>\n",
       "      <td>True</td>\n",
       "    </tr>\n",
       "  </tbody>\n",
       "</table>\n",
       "</div>"
      ],
      "text/plain": [
       "   sentence_id                                           sentence  \\\n",
       "0            0  This has worked partially and very slowly and ...   \n",
       "1            1  So let's start with that about why this is ult...   \n",
       "2            2  We think that governments in general should on...   \n",
       "3            3  And I think the biggest reason for this is tha...   \n",
       "4            4  And because you can get high concentrations of...   \n",
       "\n",
       "                                             context  \\\n",
       "0  But unlike proposition we do not think that th...   \n",
       "1    So let's start with that about why this is u...   \n",
       "2  So we ought not do it  We think that governmen...   \n",
       "3  So let's start with that about why this is ult...   \n",
       "4  Obviously people can have a drinking what thei...   \n",
       "\n",
       "                                          topic  label  #positive  #negative  \\\n",
       "0                 We should ban beauty contests      0          0          3   \n",
       "1                 We should ban anonymous posts      0          1          2   \n",
       "2                 We should ban beauty contests      1          2          1   \n",
       "3                 We should ban anonymous posts      0          1          2   \n",
       "4  We should further exploit unconventional oil      1          3          0   \n",
       "\n",
       "   sentence_internal_id    val  test  \n",
       "0                   834  False  True  \n",
       "1                  1375  False  True  \n",
       "2                   877  False  True  \n",
       "3                  1376  False  True  \n",
       "4                   471  False  True  "
      ]
     },
     "execution_count": 25,
     "metadata": {},
     "output_type": "execute_result"
    }
   ],
   "source": [
    "df.head()"
   ]
  },
  {
   "cell_type": "code",
   "execution_count": 26,
   "id": "3c403264",
   "metadata": {},
   "outputs": [],
   "source": [
    "data3 = []\n",
    "for idx, row in df.iterrows():\n",
    "    data3.append(f\"{row['sentence']} {row['context']}\")"
   ]
  },
  {
   "cell_type": "code",
   "execution_count": 28,
   "id": "ef889fcf",
   "metadata": {},
   "outputs": [
    {
     "data": {
      "text/plain": [
       "700"
      ]
     },
     "execution_count": 28,
     "metadata": {},
     "output_type": "execute_result"
    }
   ],
   "source": [
    "len(data3)"
   ]
  },
  {
   "cell_type": "markdown",
   "id": "2638cc1c",
   "metadata": {},
   "source": [
    "# IBM_DR-ACL-2020"
   ]
  },
  {
   "cell_type": "code",
   "execution_count": 29,
   "id": "a8316f9b",
   "metadata": {},
   "outputs": [],
   "source": [
    "data4 = []\n",
    "for file in os.listdir(\"aug_datasets/IBM_DR-ACL-2020/\"):\n",
    "    try:\n",
    "        with open(f\"aug_datasets/IBM_DR-ACL-2020/{file}\", 'r') as f:\n",
    "            data4.append(f.read().replace(\"\\n\", \" \"))\n",
    "    except Exception:\n",
    "        pass    "
   ]
  },
  {
   "cell_type": "code",
   "execution_count": 31,
   "id": "60c73c2a",
   "metadata": {},
   "outputs": [
    {
     "data": {
      "text/plain": [
       "3562"
      ]
     },
     "execution_count": 31,
     "metadata": {},
     "output_type": "execute_result"
    }
   ],
   "source": [
    "len(data4)"
   ]
  },
  {
   "cell_type": "markdown",
   "id": "982e3609",
   "metadata": {},
   "source": [
    "# political_debates_full_dataset.csv"
   ]
  },
  {
   "cell_type": "code",
   "execution_count": 32,
   "id": "5038900f",
   "metadata": {},
   "outputs": [],
   "source": [
    "df = pd.read_csv(\"aug_datasets/political_debates_full_dataset.csv\")"
   ]
  },
  {
   "cell_type": "code",
   "execution_count": 33,
   "id": "64c65cf9",
   "metadata": {},
   "outputs": [
    {
     "data": {
      "text/html": [
       "<div>\n",
       "<style scoped>\n",
       "    .dataframe tbody tr th:only-of-type {\n",
       "        vertical-align: middle;\n",
       "    }\n",
       "\n",
       "    .dataframe tbody tr th {\n",
       "        vertical-align: top;\n",
       "    }\n",
       "\n",
       "    .dataframe thead th {\n",
       "        text-align: right;\n",
       "    }\n",
       "</style>\n",
       "<table border=\"1\" class=\"dataframe\">\n",
       "  <thead>\n",
       "    <tr style=\"text-align: right;\">\n",
       "      <th></th>\n",
       "      <th>_unit_id</th>\n",
       "      <th>_golden</th>\n",
       "      <th>_missed</th>\n",
       "      <th>_tainted</th>\n",
       "      <th>_trust</th>\n",
       "      <th>_worker_id</th>\n",
       "      <th>confidence</th>\n",
       "      <th>relation</th>\n",
       "      <th>orig__golden</th>\n",
       "      <th>context</th>\n",
       "      <th>pair_id</th>\n",
       "      <th>relation_gold</th>\n",
       "      <th>relation_gold_reason</th>\n",
       "      <th>sentence_1</th>\n",
       "      <th>sentence_2</th>\n",
       "      <th>speaker_1</th>\n",
       "      <th>speaker_2</th>\n",
       "      <th>topic</th>\n",
       "    </tr>\n",
       "  </thead>\n",
       "  <tbody>\n",
       "    <tr>\n",
       "      <th>0</th>\n",
       "      <td>3085729585</td>\n",
       "      <td>True</td>\n",
       "      <td>NaN</td>\n",
       "      <td>False</td>\n",
       "      <td>0.8333</td>\n",
       "      <td>196</td>\n",
       "      <td>4</td>\n",
       "      <td>neither</td>\n",
       "      <td>True</td>\n",
       "      <td>&lt;strong&gt;Kamala Harris:&lt;/strong&gt; \"Please vote.\"...</td>\n",
       "      <td>n160434b07p3539</td>\n",
       "      <td>Neither</td>\n",
       "      <td>In these two sentences, the speaker is simply ...</td>\n",
       "      <td>And I have every confidence that the same Amer...</td>\n",
       "      <td>And I think that movement of Americans has onl...</td>\n",
       "      <td>Mike Pence</td>\n",
       "      <td>Mike Pence</td>\n",
       "      <td>Election</td>\n",
       "    </tr>\n",
       "    <tr>\n",
       "      <th>1</th>\n",
       "      <td>3085729585</td>\n",
       "      <td>True</td>\n",
       "      <td>NaN</td>\n",
       "      <td>True</td>\n",
       "      <td>0.6667</td>\n",
       "      <td>112</td>\n",
       "      <td>4</td>\n",
       "      <td>neither</td>\n",
       "      <td>True</td>\n",
       "      <td>&lt;strong&gt;Kamala Harris:&lt;/strong&gt; \"Please vote.\"...</td>\n",
       "      <td>n160434b07p3539</td>\n",
       "      <td>Neither</td>\n",
       "      <td>In these two sentences, the speaker is simply ...</td>\n",
       "      <td>And I have every confidence that the same Amer...</td>\n",
       "      <td>And I think that movement of Americans has onl...</td>\n",
       "      <td>Mike Pence</td>\n",
       "      <td>Mike Pence</td>\n",
       "      <td>Election</td>\n",
       "    </tr>\n",
       "    <tr>\n",
       "      <th>2</th>\n",
       "      <td>3085729585</td>\n",
       "      <td>True</td>\n",
       "      <td>NaN</td>\n",
       "      <td>True</td>\n",
       "      <td>0.3333</td>\n",
       "      <td>61</td>\n",
       "      <td>3</td>\n",
       "      <td>neither</td>\n",
       "      <td>True</td>\n",
       "      <td>&lt;strong&gt;Kamala Harris:&lt;/strong&gt; \"Please vote.\"...</td>\n",
       "      <td>n160434b07p3539</td>\n",
       "      <td>Neither</td>\n",
       "      <td>In these two sentences, the speaker is simply ...</td>\n",
       "      <td>And I have every confidence that the same Amer...</td>\n",
       "      <td>And I think that movement of Americans has onl...</td>\n",
       "      <td>Mike Pence</td>\n",
       "      <td>Mike Pence</td>\n",
       "      <td>Election</td>\n",
       "    </tr>\n",
       "    <tr>\n",
       "      <th>3</th>\n",
       "      <td>3085729585</td>\n",
       "      <td>True</td>\n",
       "      <td>True</td>\n",
       "      <td>True</td>\n",
       "      <td>0.3333</td>\n",
       "      <td>75</td>\n",
       "      <td>4</td>\n",
       "      <td>support</td>\n",
       "      <td>True</td>\n",
       "      <td>&lt;strong&gt;Kamala Harris:&lt;/strong&gt; \"Please vote.\"...</td>\n",
       "      <td>n160434b07p3539</td>\n",
       "      <td>Neither</td>\n",
       "      <td>In these two sentences, the speaker is simply ...</td>\n",
       "      <td>And I have every confidence that the same Amer...</td>\n",
       "      <td>And I think that movement of Americans has onl...</td>\n",
       "      <td>Mike Pence</td>\n",
       "      <td>Mike Pence</td>\n",
       "      <td>Election</td>\n",
       "    </tr>\n",
       "    <tr>\n",
       "      <th>4</th>\n",
       "      <td>3085729585</td>\n",
       "      <td>True</td>\n",
       "      <td>True</td>\n",
       "      <td>True</td>\n",
       "      <td>0.3333</td>\n",
       "      <td>56</td>\n",
       "      <td>5</td>\n",
       "      <td>support</td>\n",
       "      <td>True</td>\n",
       "      <td>&lt;strong&gt;Kamala Harris:&lt;/strong&gt; \"Please vote.\"...</td>\n",
       "      <td>n160434b07p3539</td>\n",
       "      <td>Neither</td>\n",
       "      <td>In these two sentences, the speaker is simply ...</td>\n",
       "      <td>And I have every confidence that the same Amer...</td>\n",
       "      <td>And I think that movement of Americans has onl...</td>\n",
       "      <td>Mike Pence</td>\n",
       "      <td>Mike Pence</td>\n",
       "      <td>Election</td>\n",
       "    </tr>\n",
       "  </tbody>\n",
       "</table>\n",
       "</div>"
      ],
      "text/plain": [
       "     _unit_id  _golden _missed  _tainted  _trust  _worker_id  confidence  \\\n",
       "0  3085729585     True     NaN     False  0.8333         196           4   \n",
       "1  3085729585     True     NaN      True  0.6667         112           4   \n",
       "2  3085729585     True     NaN      True  0.3333          61           3   \n",
       "3  3085729585     True    True      True  0.3333          75           4   \n",
       "4  3085729585     True    True      True  0.3333          56           5   \n",
       "\n",
       "  relation orig__golden                                            context  \\\n",
       "0  neither         True  <strong>Kamala Harris:</strong> \"Please vote.\"...   \n",
       "1  neither         True  <strong>Kamala Harris:</strong> \"Please vote.\"...   \n",
       "2  neither         True  <strong>Kamala Harris:</strong> \"Please vote.\"...   \n",
       "3  support         True  <strong>Kamala Harris:</strong> \"Please vote.\"...   \n",
       "4  support         True  <strong>Kamala Harris:</strong> \"Please vote.\"...   \n",
       "\n",
       "           pair_id relation_gold  \\\n",
       "0  n160434b07p3539       Neither   \n",
       "1  n160434b07p3539       Neither   \n",
       "2  n160434b07p3539       Neither   \n",
       "3  n160434b07p3539       Neither   \n",
       "4  n160434b07p3539       Neither   \n",
       "\n",
       "                                relation_gold_reason  \\\n",
       "0  In these two sentences, the speaker is simply ...   \n",
       "1  In these two sentences, the speaker is simply ...   \n",
       "2  In these two sentences, the speaker is simply ...   \n",
       "3  In these two sentences, the speaker is simply ...   \n",
       "4  In these two sentences, the speaker is simply ...   \n",
       "\n",
       "                                          sentence_1  \\\n",
       "0  And I have every confidence that the same Amer...   \n",
       "1  And I have every confidence that the same Amer...   \n",
       "2  And I have every confidence that the same Amer...   \n",
       "3  And I have every confidence that the same Amer...   \n",
       "4  And I have every confidence that the same Amer...   \n",
       "\n",
       "                                          sentence_2   speaker_1   speaker_2  \\\n",
       "0  And I think that movement of Americans has onl...  Mike Pence  Mike Pence   \n",
       "1  And I think that movement of Americans has onl...  Mike Pence  Mike Pence   \n",
       "2  And I think that movement of Americans has onl...  Mike Pence  Mike Pence   \n",
       "3  And I think that movement of Americans has onl...  Mike Pence  Mike Pence   \n",
       "4  And I think that movement of Americans has onl...  Mike Pence  Mike Pence   \n",
       "\n",
       "      topic  \n",
       "0  Election  \n",
       "1  Election  \n",
       "2  Election  \n",
       "3  Election  \n",
       "4  Election  "
      ]
     },
     "execution_count": 33,
     "metadata": {},
     "output_type": "execute_result"
    }
   ],
   "source": [
    "df.head()"
   ]
  },
  {
   "cell_type": "code",
   "execution_count": 34,
   "id": "a5c8a9e9",
   "metadata": {},
   "outputs": [],
   "source": [
    "from bs4 import BeautifulSoup"
   ]
  },
  {
   "cell_type": "code",
   "execution_count": 37,
   "id": "5b955c5d",
   "metadata": {},
   "outputs": [],
   "source": [
    "import re"
   ]
  },
  {
   "cell_type": "code",
   "execution_count": 41,
   "id": "43d9e7b9",
   "metadata": {},
   "outputs": [],
   "source": [
    "def clean_html_text(context):\n",
    "    parsed_html = BeautifulSoup(context)\n",
    "    text = parsed_html.text\n",
    "    text = re.sub(r'[A-Za-z ]+: \"', '', text)\n",
    "    text = text.replace('\"\\n', ' ')\n",
    "    return text"
   ]
  },
  {
   "cell_type": "code",
   "execution_count": 42,
   "id": "87b57113",
   "metadata": {},
   "outputs": [],
   "source": [
    "data5 = []\n",
    "for idx, row in df.iterrows():\n",
    "    data5.append(clean_html_text(row['context']))"
   ]
  },
  {
   "cell_type": "code",
   "execution_count": 43,
   "id": "9777a2f7",
   "metadata": {},
   "outputs": [
    {
     "data": {
      "text/plain": [
       "24710"
      ]
     },
     "execution_count": 43,
     "metadata": {},
     "output_type": "execute_result"
    }
   ],
   "source": [
    "len(data5)"
   ]
  },
  {
   "cell_type": "markdown",
   "id": "a46e7814",
   "metadata": {},
   "source": [
    "# change_my_view_modes"
   ]
  },
  {
   "cell_type": "code",
   "execution_count": 50,
   "id": "b0570119",
   "metadata": {},
   "outputs": [],
   "source": [
    "data6 = []\n",
    "for file in os.listdir(\"aug_datasets/change_my_view_modes/positive\"):\n",
    "    if file.find('.txt') >= 0:\n",
    "        try:\n",
    "            with open(f\"aug_datasets/change_my_view_modes/positive/{file}\", 'r') as f:\n",
    "                data6.append(f.read())\n",
    "        except Exception:\n",
    "            pass \n",
    "for file in os.listdir(\"aug_datasets/change_my_view_modes/negative\"):\n",
    "    if file.find('.txt') >= 0:\n",
    "        try:\n",
    "            with open(f\"aug_datasets/change_my_view_modes/negative/{file}\", 'r') as f:\n",
    "                data6.append(f.read())\n",
    "        except Exception:\n",
    "            pass "
   ]
  },
  {
   "cell_type": "code",
   "execution_count": 45,
   "id": "e4ca9e97",
   "metadata": {},
   "outputs": [
    {
     "data": {
      "text/plain": [
       "113"
      ]
     },
     "execution_count": 45,
     "metadata": {},
     "output_type": "execute_result"
    }
   ],
   "source": [
    "len(data6)"
   ]
  },
  {
   "cell_type": "markdown",
   "id": "5996008b",
   "metadata": {},
   "source": [
    "# arg_microtext"
   ]
  },
  {
   "cell_type": "code",
   "execution_count": 54,
   "id": "b4d9b3ff",
   "metadata": {},
   "outputs": [],
   "source": [
    "data7 = []\n",
    "for file in os.listdir(\"aug_datasets/arg_microtext/\"):\n",
    "    if file.find('.txt') >= 0:\n",
    "        try:\n",
    "            with open(f\"aug_datasets/arg_microtext/{file}\", 'r') as f:\n",
    "                data7.append(f.read())\n",
    "        except Exception:\n",
    "            pass "
   ]
  },
  {
   "cell_type": "code",
   "execution_count": 55,
   "id": "bebb8a20",
   "metadata": {},
   "outputs": [
    {
     "data": {
      "text/plain": [
       "112"
      ]
     },
     "execution_count": 55,
     "metadata": {},
     "output_type": "execute_result"
    }
   ],
   "source": [
    "len(data7)"
   ]
  },
  {
   "cell_type": "markdown",
   "id": "cd26b285",
   "metadata": {},
   "source": [
    "# competition data"
   ]
  },
  {
   "cell_type": "code",
   "execution_count": 56,
   "id": "aa9ecee9",
   "metadata": {},
   "outputs": [],
   "source": [
    "data_original = []\n",
    "for file in os.listdir(\"train/\"):\n",
    "    if file.find('.txt') >= 0:\n",
    "        try:\n",
    "            with open(f\"train/{file}\", 'r') as f:\n",
    "                data_original.append(f.read())\n",
    "        except Exception:\n",
    "            pass "
   ]
  },
  {
   "cell_type": "code",
   "execution_count": 57,
   "id": "ddd5f2ce",
   "metadata": {},
   "outputs": [
    {
     "data": {
      "text/plain": [
       "15594"
      ]
     },
     "execution_count": 57,
     "metadata": {},
     "output_type": "execute_result"
    }
   ],
   "source": [
    "len(data_original)"
   ]
  },
  {
   "cell_type": "markdown",
   "id": "39de8f97",
   "metadata": {},
   "source": [
    "# construct final dataset"
   ]
  },
  {
   "cell_type": "code",
   "execution_count": 58,
   "id": "b820835f",
   "metadata": {},
   "outputs": [],
   "source": [
    "data = data1+data2+data3+data4+data5+data6+data7+data_original"
   ]
  },
  {
   "cell_type": "code",
   "execution_count": 59,
   "id": "4e98e279",
   "metadata": {},
   "outputs": [
    {
     "data": {
      "text/plain": [
       "49527"
      ]
     },
     "execution_count": 59,
     "metadata": {},
     "output_type": "execute_result"
    }
   ],
   "source": [
    "len(data)"
   ]
  },
  {
   "cell_type": "code",
   "execution_count": 61,
   "id": "955bfd2d",
   "metadata": {},
   "outputs": [],
   "source": [
    "with open(\"full_pretraining_data.txt\", 'w') as f:\n",
    "    f.write(\"\\n\".join(data))"
   ]
  },
  {
   "cell_type": "code",
   "execution_count": null,
   "id": "c2e14849",
   "metadata": {},
   "outputs": [],
   "source": []
  }
 ],
 "metadata": {
  "kernelspec": {
   "display_name": "Python 3 (ipykernel)",
   "language": "python",
   "name": "python3"
  },
  "language_info": {
   "codemirror_mode": {
    "name": "ipython",
    "version": 3
   },
   "file_extension": ".py",
   "mimetype": "text/x-python",
   "name": "python",
   "nbconvert_exporter": "python",
   "pygments_lexer": "ipython3",
   "version": "3.8.10"
  }
 },
 "nbformat": 4,
 "nbformat_minor": 5
}
