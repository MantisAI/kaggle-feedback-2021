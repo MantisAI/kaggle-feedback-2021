{
 "cells": [
  {
   "cell_type": "code",
   "execution_count": 1,
   "id": "dcfd594f",
   "metadata": {},
   "outputs": [],
   "source": [
    "import pandas as pd"
   ]
  },
  {
   "cell_type": "code",
   "execution_count": 2,
   "id": "101e130b",
   "metadata": {},
   "outputs": [],
   "source": [
    "import os"
   ]
  },
  {
   "cell_type": "code",
   "execution_count": 10,
   "id": "60717f5a",
   "metadata": {},
   "outputs": [],
   "source": [
    "from xml.dom import minidom"
   ]
  },
  {
   "cell_type": "markdown",
   "id": "9c8385b0",
   "metadata": {},
   "source": [
    "# habernal.gurevych.2015.argumentation.mining.CL.data.v1.0_1.tar"
   ]
  },
  {
   "cell_type": "code",
   "execution_count": 16,
   "id": "68e03f05",
   "metadata": {},
   "outputs": [],
   "source": [
    "data1 = []\n",
    "for file in os.listdir(\"aug_datasets/unlabeled.raw.corpus/\"):\n",
    "    try:\n",
    "        xmldoc = minidom.parse(f'aug_datasets/unlabeled.raw.corpus/{file}')\n",
    "        file_text = xmldoc.getElementsByTagName(\"cas:Sofa\")[0].getAttribute(\"sofaString\")\n",
    "        data1.append(file_text)\n",
    "    except Exception:\n",
    "        pass"
   ]
  },
  {
   "cell_type": "code",
   "execution_count": 18,
   "id": "0e33ce7b",
   "metadata": {},
   "outputs": [
    {
     "data": {
      "text/plain": [
       "4334"
      ]
     },
     "execution_count": 18,
     "metadata": {},
     "output_type": "execute_result"
    }
   ],
   "source": [
    "len(data1)"
   ]
  },
  {
   "cell_type": "markdown",
   "id": "ac8b6bec",
   "metadata": {},
   "source": [
    "# UKP-OpposingArgumentsInEssays_v1.0"
   ]
  },
  {
   "cell_type": "code",
   "execution_count": 17,
   "id": "aa663096",
   "metadata": {},
   "outputs": [],
   "source": [
    "data2 = []\n",
    "for file in os.listdir(\"aug_datasets/essays/\"):\n",
    "    try:\n",
    "        with open(f\"aug_datasets/essays/{file}\", 'r') as f:\n",
    "            data2.append(f.read())\n",
    "    except Exception:\n",
    "        pass    "
   ]
  },
  {
   "cell_type": "code",
   "execution_count": 19,
   "id": "8c7b6491",
   "metadata": {},
   "outputs": [
    {
     "data": {
      "text/plain": [
       "402"
      ]
     },
     "execution_count": 19,
     "metadata": {},
     "output_type": "execute_result"
    }
   ],
   "source": [
    "len(data2)"
   ]
  },
  {
   "cell_type": "markdown",
   "id": "bd87c27f",
   "metadata": {},
   "source": [
    "# IBM_Debater_(R)_ArgsInASR_Findings-2020.v1"
   ]
  },
  {
   "cell_type": "code",
   "execution_count": 24,
   "id": "2a32a9e5",
   "metadata": {},
   "outputs": [],
   "source": [
    "df = pd.read_csv(\"aug_datasets/IBM_Debater_(R)_ArgsInASR_Findings-2020.v1/argumentative_sentences_in_spoken_language_with split.csv\")"
   ]
  },
  {
   "cell_type": "code",
   "execution_count": 25,
   "id": "d6719313",
   "metadata": {},
   "outputs": [
    {
     "data": {
      "text/html": [
       "<div>\n",
       "<style scoped>\n",
       "    .dataframe tbody tr th:only-of-type {\n",
       "        vertical-align: middle;\n",
       "    }\n",
       "\n",
       "    .dataframe tbody tr th {\n",
       "        vertical-align: top;\n",
       "    }\n",
       "\n",
       "    .dataframe thead th {\n",
       "        text-align: right;\n",
       "    }\n",
       "</style>\n",
       "<table border=\"1\" class=\"dataframe\">\n",
       "  <thead>\n",
       "    <tr style=\"text-align: right;\">\n",
       "      <th></th>\n",
       "      <th>sentence_id</th>\n",
       "      <th>sentence</th>\n",
       "      <th>context</th>\n",
       "      <th>topic</th>\n",
       "      <th>label</th>\n",
       "      <th>#positive</th>\n",
       "      <th>#negative</th>\n",
       "      <th>sentence_internal_id</th>\n",
       "      <th>val</th>\n",
       "      <th>test</th>\n",
       "    </tr>\n",
       "  </thead>\n",
       "  <tbody>\n",
       "    <tr>\n",
       "      <th>0</th>\n",
       "      <td>0</td>\n",
       "      <td>This has worked partially and very slowly and ...</td>\n",
       "      <td>But unlike proposition we do not think that th...</td>\n",
       "      <td>We should ban beauty contests</td>\n",
       "      <td>0</td>\n",
       "      <td>0</td>\n",
       "      <td>3</td>\n",
       "      <td>834</td>\n",
       "      <td>False</td>\n",
       "      <td>True</td>\n",
       "    </tr>\n",
       "    <tr>\n",
       "      <th>1</th>\n",
       "      <td>1</td>\n",
       "      <td>So let's start with that about why this is ult...</td>\n",
       "      <td>So let's start with that about why this is u...</td>\n",
       "      <td>We should ban anonymous posts</td>\n",
       "      <td>0</td>\n",
       "      <td>1</td>\n",
       "      <td>2</td>\n",
       "      <td>1375</td>\n",
       "      <td>False</td>\n",
       "      <td>True</td>\n",
       "    </tr>\n",
       "    <tr>\n",
       "      <th>2</th>\n",
       "      <td>2</td>\n",
       "      <td>We think that governments in general should on...</td>\n",
       "      <td>So we ought not do it  We think that governmen...</td>\n",
       "      <td>We should ban beauty contests</td>\n",
       "      <td>1</td>\n",
       "      <td>2</td>\n",
       "      <td>1</td>\n",
       "      <td>877</td>\n",
       "      <td>False</td>\n",
       "      <td>True</td>\n",
       "    </tr>\n",
       "    <tr>\n",
       "      <th>3</th>\n",
       "      <td>3</td>\n",
       "      <td>And I think the biggest reason for this is tha...</td>\n",
       "      <td>So let's start with that about why this is ult...</td>\n",
       "      <td>We should ban anonymous posts</td>\n",
       "      <td>0</td>\n",
       "      <td>1</td>\n",
       "      <td>2</td>\n",
       "      <td>1376</td>\n",
       "      <td>False</td>\n",
       "      <td>True</td>\n",
       "    </tr>\n",
       "    <tr>\n",
       "      <th>4</th>\n",
       "      <td>4</td>\n",
       "      <td>And because you can get high concentrations of...</td>\n",
       "      <td>Obviously people can have a drinking what thei...</td>\n",
       "      <td>We should further exploit unconventional oil</td>\n",
       "      <td>1</td>\n",
       "      <td>3</td>\n",
       "      <td>0</td>\n",
       "      <td>471</td>\n",
       "      <td>False</td>\n",
       "      <td>True</td>\n",
       "    </tr>\n",
       "  </tbody>\n",
       "</table>\n",
       "</div>"
      ],
      "text/plain": [
       "   sentence_id                                           sentence  \\\n",
       "0            0  This has worked partially and very slowly and ...   \n",
       "1            1  So let's start with that about why this is ult...   \n",
       "2            2  We think that governments in general should on...   \n",
       "3            3  And I think the biggest reason for this is tha...   \n",
       "4            4  And because you can get high concentrations of...   \n",
       "\n",
       "                                             context  \\\n",
       "0  But unlike proposition we do not think that th...   \n",
       "1    So let's start with that about why this is u...   \n",
       "2  So we ought not do it  We think that governmen...   \n",
       "3  So let's start with that about why this is ult...   \n",
       "4  Obviously people can have a drinking what thei...   \n",
       "\n",
       "                                          topic  label  #positive  #negative  \\\n",
       "0                 We should ban beauty contests      0          0          3   \n",
       "1                 We should ban anonymous posts      0          1          2   \n",
       "2                 We should ban beauty contests      1          2          1   \n",
       "3                 We should ban anonymous posts      0          1          2   \n",
       "4  We should further exploit unconventional oil      1          3          0   \n",
       "\n",
       "   sentence_internal_id    val  test  \n",
       "0                   834  False  True  \n",
       "1                  1375  False  True  \n",
       "2                   877  False  True  \n",
       "3                  1376  False  True  \n",
       "4                   471  False  True  "
      ]
     },
     "execution_count": 25,
     "metadata": {},
     "output_type": "execute_result"
    }
   ],
   "source": [
    "df.head()"
   ]
  },
  {
   "cell_type": "code",
   "execution_count": 26,
   "id": "7b0dcb1f",
   "metadata": {},
   "outputs": [],
   "source": [
    "data3 = []\n",
    "for idx, row in df.iterrows():\n",
    "    data3.append(f\"{row['sentence']} {row['context']}\")"
   ]
  },
  {
   "cell_type": "code",
   "execution_count": 28,
   "id": "99fa5847",
   "metadata": {},
   "outputs": [
    {
     "data": {
      "text/plain": [
       "700"
      ]
     },
     "execution_count": 28,
     "metadata": {},
     "output_type": "execute_result"
    }
   ],
   "source": [
    "len(data3)"
   ]
  },
  {
   "cell_type": "markdown",
   "id": "eef55280",
   "metadata": {},
   "source": [
    "# IBM_DR-ACL-2020"
   ]
  },
  {
   "cell_type": "code",
   "execution_count": 29,
   "id": "70750107",
   "metadata": {},
   "outputs": [],
   "source": [
    "data4 = []\n",
    "for file in os.listdir(\"aug_datasets/IBM_DR-ACL-2020/\"):\n",
    "    try:\n",
    "        with open(f\"aug_datasets/IBM_DR-ACL-2020/{file}\", 'r') as f:\n",
    "            data4.append(f.read().replace(\"\\n\", \" \"))\n",
    "    except Exception:\n",
    "        pass    "
   ]
  },
  {
   "cell_type": "code",
   "execution_count": 31,
   "id": "0bbb6dac",
   "metadata": {},
   "outputs": [
    {
     "data": {
      "text/plain": [
       "3562"
      ]
     },
     "execution_count": 31,
     "metadata": {},
     "output_type": "execute_result"
    }
   ],
   "source": [
    "len(data4)"
   ]
  },
  {
   "cell_type": "code",
   "execution_count": null,
   "id": "934944f6",
   "metadata": {},
   "outputs": [],
   "source": []
  }
 ],
 "metadata": {
  "kernelspec": {
   "display_name": "Python 3 (ipykernel)",
   "language": "python",
   "name": "python3"
  },
  "language_info": {
   "codemirror_mode": {
    "name": "ipython",
    "version": 3
   },
   "file_extension": ".py",
   "mimetype": "text/x-python",
   "name": "python",
   "nbconvert_exporter": "python",
   "pygments_lexer": "ipython3",
   "version": "3.8.10"
  }
 },
 "nbformat": 4,
 "nbformat_minor": 5
}
